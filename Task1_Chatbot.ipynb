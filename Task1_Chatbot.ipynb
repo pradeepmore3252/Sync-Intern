{
  "nbformat": 4,
  "nbformat_minor": 0,
  "metadata": {
    "colab": {
      "provenance": []
    },
    "kernelspec": {
      "name": "python3",
      "display_name": "Python 3"
    },
    "language_info": {
      "name": "python"
    }
  },
  "cells": [
    {
      "cell_type": "code",
      "source": [
        "#Task 1 - Creating a Chatbot"
      ],
      "metadata": {
        "id": "y-5zvYQsSgvY"
      },
      "execution_count": null,
      "outputs": []
    },
    {
      "cell_type": "markdown",
      "source": [],
      "metadata": {
        "id": "v7Y6MnW9T89z"
      }
    },
    {
      "cell_type": "code",
      "source": [
        "#import Libraries\n",
        "import pandas as pd\n",
        "import tensorflow as tf\n",
        "import numpy as np"
      ],
      "metadata": {
        "id": "abiAfp3txGFb"
      },
      "execution_count": 22,
      "outputs": []
    },
    {
      "cell_type": "code",
      "source": [
        "dataset = {\n",
        "  \"hi\": \"hi\",\n",
        "  \"hii\": \"hii\",\n",
        "  \"hello\": \"hello\",\n",
        "  \"hello\": \"hey\",\n",
        "  \"hey\": \"hey\",\n",
        "  \"how are you?\": \"I am fine\",\n",
        "  \"do you have time to talk?\": \"yes, I have\",\n",
        "  \"what is your name?\": \"my name is Chad\",\n",
        "  \"how old are you? \": \"28\",\n",
        "  \"what are you doing?\": \"I am a student\",\n",
        "  \"what do you study?\": \"I am studying Machine Learning\",\n",
        "  \"at which university?\": \"Pune university\",\n",
        "  \"what is the expected graduation year?\": \"2024\",\n",
        "  \"what skills do you have?\" : \"Python programming language, SQL, Power BI, Ability to solve programming problems, Ability to analyze data\",\n",
        "  \"what do you do in your free time?\": \"I play Cricket, read books, and learn new skills\",\n",
        "  \"ok, thanks for your time\": \"You are Welcome\",\n",
        "  \"thanks\": \"You are Welcome\",\n",
        "  \"bye\": \"Bye\"\n",
        "\n",
        "\n",
        "\n",
        "\n",
        "}"
      ],
      "metadata": {
        "id": "0nVdzvuDxGLI"
      },
      "execution_count": 23,
      "outputs": []
    },
    {
      "cell_type": "code",
      "source": [
        "questions = list(dataset.keys())\n",
        "answers = list(dataset.values())\n",
        "tokenizer = tf.keras.preprocessing.text.Tokenizer()\n",
        "tokenizer.fit_on_texts(questions)\n",
        "question_sequences = tokenizer.texts_to_sequences(questions)\n",
        "max_length = max([len(x) for x in question_sequences])\n",
        "padded_questions = tf.keras.preprocessing.sequence.pad_sequences(question_sequences, maxlen=max_length, padding='post')"
      ],
      "metadata": {
        "id": "-Z9jL21p9aPx"
      },
      "execution_count": 24,
      "outputs": []
    },
    {
      "cell_type": "code",
      "source": [
        "# Build the machine learning model\n",
        "model = tf.keras.Sequential([\n",
        "  tf.keras.layers.Embedding(input_dim=len(tokenizer.word_index)+1, output_dim=32, input_length=max_length),\n",
        "  tf.keras.layers.GlobalAveragePooling1D(),\n",
        "  tf.keras.layers.Dense(64, activation='relu'),\n",
        "  tf.keras.layers.Dense(len(answers), activation='softmax')\n",
        "])\n",
        "\n",
        "\n",
        "#model compile\n",
        "model.compile(loss='sparse_categorical_crossentropy', optimizer='adam', metrics=['accuracy'])\n",
        "\n",
        "model.summary()"
      ],
      "metadata": {
        "colab": {
          "base_uri": "https://localhost:8080/"
        },
        "id": "pJVv30u29ab3",
        "outputId": "32fea645-91dd-4235-a8d8-029ffa4e0b7c"
      },
      "execution_count": 25,
      "outputs": [
        {
          "output_type": "stream",
          "name": "stdout",
          "text": [
            "Model: \"sequential_4\"\n",
            "_________________________________________________________________\n",
            " Layer (type)                Output Shape              Param #   \n",
            "=================================================================\n",
            " embedding_4 (Embedding)     (None, 8, 32)             1088      \n",
            "                                                                 \n",
            " global_average_pooling1d_4  (None, 32)                0         \n",
            "  (GlobalAveragePooling1D)                                       \n",
            "                                                                 \n",
            " dense_8 (Dense)             (None, 64)                2112      \n",
            "                                                                 \n",
            " dense_9 (Dense)             (None, 17)                1105      \n",
            "                                                                 \n",
            "=================================================================\n",
            "Total params: 4305 (16.82 KB)\n",
            "Trainable params: 4305 (16.82 KB)\n",
            "Non-trainable params: 0 (0.00 Byte)\n",
            "_________________________________________________________________\n"
          ]
        }
      ]
    },
    {
      "cell_type": "code",
      "source": [
        "# Train the model\n",
        "model.fit(padded_questions, np.array(range(len(questions))), epochs=20)"
      ],
      "metadata": {
        "colab": {
          "base_uri": "https://localhost:8080/"
        },
        "id": "1Jzp0nSr9ahz",
        "outputId": "cd655b3e-70f1-4aaa-985b-7a20ac98e54a"
      },
      "execution_count": 26,
      "outputs": [
        {
          "output_type": "stream",
          "name": "stdout",
          "text": [
            "Epoch 1/20\n",
            "1/1 [==============================] - 1s 1s/step - loss: 2.8322 - accuracy: 0.0588\n",
            "Epoch 2/20\n",
            "1/1 [==============================] - 0s 19ms/step - loss: 2.8297 - accuracy: 0.0588\n",
            "Epoch 3/20\n",
            "1/1 [==============================] - 0s 18ms/step - loss: 2.8275 - accuracy: 0.0588\n",
            "Epoch 4/20\n",
            "1/1 [==============================] - 0s 13ms/step - loss: 2.8256 - accuracy: 0.0588\n",
            "Epoch 5/20\n",
            "1/1 [==============================] - 0s 12ms/step - loss: 2.8236 - accuracy: 0.1176\n",
            "Epoch 6/20\n",
            "1/1 [==============================] - 0s 13ms/step - loss: 2.8216 - accuracy: 0.1765\n",
            "Epoch 7/20\n",
            "1/1 [==============================] - 0s 11ms/step - loss: 2.8198 - accuracy: 0.1765\n",
            "Epoch 8/20\n",
            "1/1 [==============================] - 0s 11ms/step - loss: 2.8179 - accuracy: 0.2353\n",
            "Epoch 9/20\n",
            "1/1 [==============================] - 0s 11ms/step - loss: 2.8161 - accuracy: 0.3529\n",
            "Epoch 10/20\n",
            "1/1 [==============================] - 0s 15ms/step - loss: 2.8141 - accuracy: 0.3529\n",
            "Epoch 11/20\n",
            "1/1 [==============================] - 0s 14ms/step - loss: 2.8121 - accuracy: 0.3529\n",
            "Epoch 12/20\n",
            "1/1 [==============================] - 0s 19ms/step - loss: 2.8101 - accuracy: 0.4118\n",
            "Epoch 13/20\n",
            "1/1 [==============================] - 0s 13ms/step - loss: 2.8080 - accuracy: 0.4706\n",
            "Epoch 14/20\n",
            "1/1 [==============================] - 0s 13ms/step - loss: 2.8058 - accuracy: 0.4118\n",
            "Epoch 15/20\n",
            "1/1 [==============================] - 0s 10ms/step - loss: 2.8037 - accuracy: 0.4118\n",
            "Epoch 16/20\n",
            "1/1 [==============================] - 0s 10ms/step - loss: 2.8014 - accuracy: 0.4706\n",
            "Epoch 17/20\n",
            "1/1 [==============================] - 0s 14ms/step - loss: 2.7991 - accuracy: 0.4706\n",
            "Epoch 18/20\n",
            "1/1 [==============================] - 0s 15ms/step - loss: 2.7967 - accuracy: 0.5882\n",
            "Epoch 19/20\n",
            "1/1 [==============================] - 0s 12ms/step - loss: 2.7942 - accuracy: 0.5882\n",
            "Epoch 20/20\n",
            "1/1 [==============================] - 0s 15ms/step - loss: 2.7915 - accuracy: 0.5882\n"
          ]
        },
        {
          "output_type": "execute_result",
          "data": {
            "text/plain": [
              "<keras.src.callbacks.History at 0x796da28295d0>"
            ]
          },
          "metadata": {},
          "execution_count": 26
        }
      ]
    },
    {
      "cell_type": "code",
      "source": [
        "# Define the chatbot interface\n",
        "def chatbot():\n",
        "    while True:\n",
        "        user_input = input(\"Person: \")\n",
        "        if user_input=='bye':\n",
        "            print ('bye')\n",
        "            break\n",
        "        else:\n",
        "            user_sequence = tokenizer.texts_to_sequences([user_input])\n",
        "            padded_user_sequence = tf.keras.preprocessing.sequence.pad_sequences(user_sequence, maxlen=max_length, padding='post')\n",
        "            prediction = np.argmax(model.predict(padded_user_sequence))\n",
        "            print(answers[prediction])\n",
        "\n",
        "# Run the chatbot\n",
        "chatbot()"
      ],
      "metadata": {
        "colab": {
          "base_uri": "https://localhost:8080/"
        },
        "id": "FHL_YnQ79ale",
        "outputId": "24db5756-cc52-4255-e87c-de31b93850cf"
      },
      "execution_count": 27,
      "outputs": [
        {
          "output_type": "stream",
          "name": "stdout",
          "text": [
            "Person: hello\n",
            "1/1 [==============================] - 0s 59ms/step\n",
            "I am fine\n",
            "Person: what is your name?\n",
            "1/1 [==============================] - 0s 22ms/step\n",
            "my name is Chad\n",
            "Person: what are you doing\n",
            "1/1 [==============================] - 0s 21ms/step\n",
            "I am fine\n",
            "Person: What do you do\n",
            "1/1 [==============================] - 0s 23ms/step\n",
            "I am fine\n",
            "Person: at which university?\n",
            "1/1 [==============================] - 0s 35ms/step\n",
            "Pune university\n",
            "Person: ok thanks for your time?\n",
            "1/1 [==============================] - 0s 21ms/step\n",
            "You are Welcome\n",
            "Person: bye\n",
            "bye\n"
          ]
        }
      ]
    },
    {
      "cell_type": "code",
      "source": [],
      "metadata": {
        "id": "IDzv3_WN9a4U"
      },
      "execution_count": null,
      "outputs": []
    },
    {
      "cell_type": "code",
      "source": [],
      "metadata": {
        "id": "1e2ULZ6pxCdR"
      },
      "execution_count": null,
      "outputs": []
    },
    {
      "cell_type": "code",
      "source": [],
      "metadata": {
        "id": "KN9_7jRGxCjP"
      },
      "execution_count": null,
      "outputs": []
    },
    {
      "cell_type": "code",
      "source": [
        "# Define the chatbot responses as a dictionary\n",
        "chatbot_responses = {\n",
        "    \"hi\": \"hi\",\n",
        "    \"hii\": \"hii\",\n",
        "    \"hello\": \"hello\",\n",
        "    \"hey\": \"hey\",\n",
        "    \"how are you?\": \"I am fine\",\n",
        "    \"do you have time to talk?\": \"yes, I have\",\n",
        "    \"what is your name?\": \"my name is ChatBot\",\n",
        "    \"how old are you?\": \"28\",\n",
        "    \"what are you doing?\": \"I am a student\",\n",
        "    \"what do you study?\": \"I am studying Machine Learning\",\n",
        "    \"at which university?\": \"Pune university\",\n",
        "    \"what is the expected graduation year?\": \"2024\",\n",
        "    \"what skills do you have?\": \"Python programming language, SQL, Power BI, Ability to solve programming problems, Ability to analyze data\",\n",
        "    \"what do you do in your free time?\": \"I play Cricket, read books, and learn new skills\",\n",
        "    \"ok, thanks for your time\": \"You are Welcome\",\n",
        "    \"thanks\": \"You are Welcome\",\n",
        "    \"bye\": \"Bye\"\n",
        "}\n",
        "\n",
        "# Chatbot loop\n",
        "while True:\n",
        "    user_input = input(\"You: \").lower()\n",
        "    if user_input == \"exit\":\n",
        "        print(\"Chatbot: Goodbye!\")\n",
        "        break\n",
        "\n",
        "    response = chatbot_responses.get(user_input, \"I don't understand that. Please ask something else.\")\n",
        "    print(\"Chatbot:\", response)\n"
      ],
      "metadata": {
        "id": "V9NS5Lms9bBE",
        "colab": {
          "base_uri": "https://localhost:8080/"
        },
        "outputId": "e83f3198-c80b-4222-982e-7666c9d4b554"
      },
      "execution_count": 39,
      "outputs": [
        {
          "output_type": "stream",
          "name": "stdout",
          "text": [
            "You: hi\n",
            "Chatbot: hi\n",
            "You: hello\n",
            "Chatbot: hello\n",
            "You: how are you\n",
            "Chatbot: I don't understand that. Please ask something else.\n",
            "You: how are you?\n",
            "Chatbot: I am fine\n",
            "You: what are you doing?\n",
            "Chatbot: I am a student\n",
            "You: what do you study?\n",
            "Chatbot: I am studying Machine Learning\n",
            "You: at which university?\n",
            "Chatbot: Pune university\n",
            "You: ok thanks for your time\n",
            "Chatbot: I don't understand that. Please ask something else.\n",
            "You: thanks\n",
            "Chatbot: You are Welcome\n",
            "You: bye\n",
            "Chatbot: Bye\n",
            "You: exit\n",
            "Chatbot: Goodbye!\n"
          ]
        }
      ]
    },
    {
      "cell_type": "code",
      "source": [],
      "metadata": {
        "id": "q9jJTRnWw-86"
      },
      "execution_count": null,
      "outputs": []
    },
    {
      "cell_type": "code",
      "source": [],
      "metadata": {
        "id": "lwPuZbf4w_Lo"
      },
      "execution_count": null,
      "outputs": []
    },
    {
      "cell_type": "code",
      "source": [],
      "metadata": {
        "id": "qklwMFhUw_Sq"
      },
      "execution_count": null,
      "outputs": []
    },
    {
      "cell_type": "code",
      "source": [],
      "metadata": {
        "id": "1VxfjZO0w_aO"
      },
      "execution_count": null,
      "outputs": []
    },
    {
      "cell_type": "code",
      "source": [],
      "metadata": {
        "id": "UuiauKYaiJjU"
      },
      "execution_count": null,
      "outputs": []
    },
    {
      "cell_type": "code",
      "source": [],
      "metadata": {
        "id": "htjY2PBSn5KB"
      },
      "execution_count": null,
      "outputs": []
    },
    {
      "cell_type": "code",
      "source": [],
      "metadata": {
        "id": "QVn6LUxFn5QR"
      },
      "execution_count": null,
      "outputs": []
    },
    {
      "cell_type": "code",
      "source": [],
      "metadata": {
        "id": "boIEqh36n5Uu"
      },
      "execution_count": null,
      "outputs": []
    },
    {
      "cell_type": "code",
      "source": [],
      "metadata": {
        "id": "t6-G0Hozn5Ys"
      },
      "execution_count": null,
      "outputs": []
    },
    {
      "cell_type": "code",
      "source": [],
      "metadata": {
        "id": "-J4uafhOiJpS"
      },
      "execution_count": null,
      "outputs": []
    }
  ]
}